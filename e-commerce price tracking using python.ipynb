{
 "cells": [
  {
   "cell_type": "code",
   "execution_count": 1,
   "metadata": {},
   "outputs": [
    {
     "name": "stdout",
     "output_type": "stream",
     "text": [
      "Canon EOS 1300D 18MP Digital SLR Camera (Black) with 18-55mm ISII Lens, 16GB Card and Carry Case\n",
      "26499.0\n",
      "HEY E-mail HAS BEEN SENT!\n"
     ]
    }
   ],
   "source": [
    "import smtplib \n",
    "import requests #pip istall requests\n",
    "from bs4 import BeautifulSoup #pip istall bs4\n",
    "\n",
    "#This programe is create by Sujit Mandal\n",
    "\n",
    "URL = ('https://www.amazon.in/Canon-EOS-1300D-Digital-18-55mm/dp/B01D4EYNUG/ref=pd_sbs_23_2/257-8946760-0981711?_encoding=UTF8&pd_rd_i=B01D4EYNUG&pd_rd_r=40b6b35d-a0e9-11e9-8027-cd598beea6df&pd_rd_w=AMDvp&pd_rd_wg=39fvn&pf_rd_p=87667aae-831c-4952-ab47-0ae2a4d747da&pf_rd_r=ZA235CP7YC1DHSWVRDGP&psc=1&refRID=ZA235CP7YC1DHSWVRDGP')\n",
    "#search on google \"my user agent\"\n",
    "headers = {\"User-Agent\": 'Mozilla/5.0 (Windows NT 10.0; Win64; x64) AppleWebKit/537.36 (KHTML, like Gecko) Chrome/75.0.3770.100 Safari/537.36'}\n",
    "\n",
    "def check_price():\n",
    "    page = requests.get(URL, headers = headers)\n",
    "    soup = BeautifulSoup(page.content, 'html.parser')\n",
    "\n",
    "    #print(soup.prettify())\n",
    "\n",
    "    title = soup.find(id=\"productTitle\").get_text()\n",
    "    price = soup.find(id = \"priceblock_ourprice\").get_text()\n",
    "    converted_price_1 = (price[2:4])\n",
    "    converted_price_2 = (price[5:8])\n",
    "    converted_price = converted_price_1 + converted_price_2\n",
    "\n",
    "    print(title.strip())\n",
    "\n",
    "    print(float(converted_price))\n",
    "    #print(price)\n",
    "\n",
    "    if(converted_price >= \"15000\"):\n",
    "        send_email()\n",
    "    else:\n",
    "        print(\"HEY THE PRICE HAS NOT FELL DOWN!\")\n",
    "   \n",
    "def send_email():\n",
    "    server = smtplib.SMTP('smtp.gmail.com', 587)\n",
    "    server.ehlo()\n",
    "    server.starttls()\n",
    "    server.ehlo()\n",
    "\n",
    "    server.login(\"abcd@gmail.com\", \"password\") #g-mail longing \n",
    "\n",
    "    subject = (\"Price is fell down!\")\n",
    "    body = (\"Check the amazonw link https://www.amazon.in/Canon-EOS-1300D-Digital-18-55mm/dp/B01D4EYNUG/ref=pd_sbs_23_2/257-8946760-0981711?_encoding=UTF8&pd_rd_i=B01D4EYNUG&pd_rd_r=40b6b35d-a0e9-11e9-8027-cd598beea6df&pd_rd_w=AMDvp&pd_rd_wg=39fvn&pf_rd_p=87667aae-831c-4952-ab47-0ae2a4d747da&pf_rd_r=ZA235CP7YC1DHSWVRDGP&psc=1&refRID=ZA235CP7YC1DHSWVRDGP\")\n",
    "\n",
    "    msg = f\"subject: {subject}\\n\\n{body}\"\n",
    "\n",
    "    server.sendmail(\n",
    "        \"abcd@gmail.com@gmail.com\", #sender e-mail\n",
    "        \"abcd@gmail.com@gmail.com\", #reciver e-mail\n",
    "        msg\n",
    "    )\n",
    "    print(\"HEY E-mail HAS BEEN SENT!\")\n",
    "    server.quit()\n",
    "\n",
    "check_price()\n"
   ]
  },
  {
   "cell_type": "code",
   "execution_count": null,
   "metadata": {},
   "outputs": [],
   "source": []
  }
 ],
 "metadata": {
  "kernelspec": {
   "display_name": "Python 3",
   "language": "python",
   "name": "python3"
  },
  "language_info": {
   "codemirror_mode": {
    "name": "ipython",
    "version": 3
   },
   "file_extension": ".py",
   "mimetype": "text/x-python",
   "name": "python",
   "nbconvert_exporter": "python",
   "pygments_lexer": "ipython3",
   "version": "3.7.3"
  }
 },
 "nbformat": 4,
 "nbformat_minor": 2
}
